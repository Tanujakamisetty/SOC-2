{
 "cells": [
  {
   "cell_type": "code",
   "execution_count": 2,
   "id": "529f18ba",
   "metadata": {},
   "outputs": [
    {
     "name": "stdout",
     "output_type": "stream",
     "text": [
      "[ 0  1  2  3  4  5  6  7  8  9 10 11 12]\n",
      "13\n"
     ]
    }
   ],
   "source": [
    "#to create a range of numbers\n",
    "import numpy as np\n",
    "ar1 = np.arange(13)\n",
    "print(ar1)\n",
    "print(len(ar1))"
   ]
  },
  {
   "cell_type": "code",
   "execution_count": 3,
   "id": "67ceec12",
   "metadata": {},
   "outputs": [
    {
     "name": "stdout",
     "output_type": "stream",
     "text": [
      "[[1. 0. 0. 0. 0.]\n",
      " [0. 1. 0. 0. 0.]\n",
      " [0. 0. 1. 0. 0.]\n",
      " [0. 0. 0. 1. 0.]\n",
      " [0. 0. 0. 0. 1.]]\n",
      "\n",
      "[[1. 0. 0. 0.]\n",
      " [0. 1. 0. 0.]\n",
      " [0. 0. 1. 0.]]\n"
     ]
    }
   ],
   "source": [
    "#identity matrix can be created using 2 functions\n",
    "#eye() --> used to define both user defined rows and columns \n",
    "#identity() --> used to define same no.of rows and columns\n",
    "print(np.eye(5))\n",
    "print()\n",
    "print(np.eye(3,4))"
   ]
  },
  {
   "cell_type": "code",
   "execution_count": 4,
   "id": "603b2d21",
   "metadata": {},
   "outputs": [
    {
     "data": {
      "text/plain": [
       "array([[1.+0.j, 0.+0.j, 0.+0.j, 0.+0.j, 0.+0.j],\n",
       "       [0.+0.j, 1.+0.j, 0.+0.j, 0.+0.j, 0.+0.j],\n",
       "       [0.+0.j, 0.+0.j, 1.+0.j, 0.+0.j, 0.+0.j],\n",
       "       [0.+0.j, 0.+0.j, 0.+0.j, 1.+0.j, 0.+0.j],\n",
       "       [0.+0.j, 0.+0.j, 0.+0.j, 0.+0.j, 1.+0.j]])"
      ]
     },
     "execution_count": 4,
     "metadata": {},
     "output_type": "execute_result"
    }
   ],
   "source": [
    "np.identity(5 ,dtype=complex)"
   ]
  },
  {
   "cell_type": "code",
   "execution_count": 5,
   "id": "5faf98c8",
   "metadata": {},
   "outputs": [
    {
     "data": {
      "text/plain": [
       "array([[1, 2],\n",
       "       [3, 4],\n",
       "       [5, 6]])"
      ]
     },
     "execution_count": 5,
     "metadata": {},
     "output_type": "execute_result"
    }
   ],
   "source": [
    "#to convert a 1d array to multidimentional array\n",
    "new_ar = np.array([1,2,3,4,5,6])\n",
    "new_ar.reshape(3,2)"
   ]
  },
  {
   "cell_type": "code",
   "execution_count": 6,
   "id": "0204a592",
   "metadata": {},
   "outputs": [
    {
     "data": {
      "text/plain": [
       "array([22, 33, 44])"
      ]
     },
     "execution_count": 6,
     "metadata": {},
     "output_type": "execute_result"
    }
   ],
   "source": [
    "#slicing in multidimentional array\n",
    "new_ar = np.array([[1,2,3,4,5],[11,22,33,44,55]])\n",
    "new_ar[1, 1:4]"
   ]
  },
  {
   "cell_type": "code",
   "execution_count": 7,
   "id": "c4b1d381",
   "metadata": {},
   "outputs": [
    {
     "name": "stdout",
     "output_type": "stream",
     "text": [
      "[[ 0  1  2  3  4]\n",
      " [ 5  6  7  8  9]\n",
      " [10 11 12 13 14]\n",
      " [15 16 17 18 19]\n",
      " [20 21 22 23 24]]\n",
      "\n",
      "[[ 6  7]\n",
      " [11 12]]\n",
      "\n",
      "[[ 6  7]\n",
      " [11 12]]\n"
     ]
    }
   ],
   "source": [
    "#to perform multidimentional slicing\n",
    "#ar2[rows,colums,step]\n",
    "#ar2[row_strat:row_end, col_start, col_end, step]\n",
    "ar2 = np.arange(25).reshape(5,5)\n",
    "print(ar2)\n",
    "print()\n",
    "print(ar2[1:3, 1:3])\n",
    "print()\n",
    "print(ar2[-4:-2, -4:-2])"
   ]
  },
  {
   "cell_type": "code",
   "execution_count": 18,
   "id": "2bdfbad9",
   "metadata": {},
   "outputs": [
    {
     "data": {
      "text/plain": [
       "2.581988897471611"
      ]
     },
     "execution_count": 18,
     "metadata": {},
     "output_type": "execute_result"
    }
   ],
   "source": [
    "#to perform mean, median, sum, variance = median/tot no.of elements and standard deviation = sqrt of variance\n",
    "new_ar = np.arange(9)\n",
    "new_ar.mean()\n",
    "np.median(new_ar)\n",
    "sum(new_ar)\n",
    "np.sum(new_ar, axis=0) #to add based on column wise --> axis=0\n",
    "np.var(new_ar,axis=0)\n",
    "np.std(new_ar)"
   ]
  },
  {
   "cell_type": "code",
   "execution_count": 20,
   "id": "755694af",
   "metadata": {},
   "outputs": [
    {
     "name": "stdout",
     "output_type": "stream",
     "text": [
      "int32\n",
      "int32\n",
      "object\n",
      "<U5\n",
      "object\n"
     ]
    }
   ],
   "source": [
    "#1.To create numpy array\n",
    "l1 = [1,2,3,4,5]\n",
    "t1 = (10,20,30,40,50)\n",
    "s1 = {11,22,33,44,55}\n",
    "string = \"hello\"\n",
    "d1 = {'a':100, 'b':200}\n",
    "arr1 = np.array(l1)\n",
    "arr2 = np.array(t1)\n",
    "arr3 = np.array(s1)\n",
    "arr4 = np.array(string)\n",
    "arr5 = np.array(d1)\n",
    "print(arr1.dtype)\n",
    "print(arr2.dtype)\n",
    "print(arr3.dtype)\n",
    "print(arr4.dtype)\n",
    "print(arr5.dtype)"
   ]
  },
  {
   "cell_type": "code",
   "execution_count": 21,
   "id": "3146ef93",
   "metadata": {},
   "outputs": [
    {
     "name": "stdout",
     "output_type": "stream",
     "text": [
      "[1 2 3 4 5]\n",
      "[10 20 30 40 50]\n",
      "{33, 22, 55, 11, 44}\n",
      "hello\n",
      "{'a': 100, 'b': 200}\n",
      "[1, 2, 3, 4, 5]\n",
      "[1, 2, 3, 4, 5]\n",
      "[10, 20, 30, 40, 50]\n",
      "{33, 22, 55, 11, 44}\n",
      "hello\n",
      "{'a': 100, 'b': 200}\n"
     ]
    }
   ],
   "source": [
    "print(arr1)\n",
    "print(arr2)\n",
    "print(arr3)\n",
    "print(arr4)\n",
    "print(arr5)\n",
    "li = list(arr1)\n",
    "print(li)\n",
    "print(arr1.tolist())\n",
    "print(arr2.tolist())\n",
    "print(arr3.tolist())\n",
    "print(arr4.tolist())\n",
    "print(arr5.tolist())"
   ]
  },
  {
   "cell_type": "code",
   "execution_count": 22,
   "id": "a448e3c4",
   "metadata": {},
   "outputs": [
    {
     "name": "stdout",
     "output_type": "stream",
     "text": [
      "<class 'numpy.ndarray'>\n",
      "<class 'numpy.ndarray'>\n",
      "<class 'numpy.ndarray'>\n",
      "<class 'numpy.ndarray'>\n",
      "<class 'numpy.ndarray'>\n",
      "<class 'list'>\n"
     ]
    }
   ],
   "source": [
    "print(type(arr1))\n",
    "print(type(arr2))\n",
    "print(type(arr3))\n",
    "print(type(arr4))\n",
    "print(type(arr5))\n",
    "print(type(li))"
   ]
  },
  {
   "cell_type": "code",
   "execution_count": 23,
   "id": "cb24da13",
   "metadata": {},
   "outputs": [
    {
     "data": {
      "text/plain": [
       "array([0.33333333, 0.66666667, 1.        , 1.33333333, 1.66666667])"
      ]
     },
     "execution_count": 23,
     "metadata": {},
     "output_type": "execute_result"
    }
   ],
   "source": [
    "#operations on the elements in array\n",
    "arr1*2\n",
    "arr1+4\n",
    "arr1/3"
   ]
  },
  {
   "cell_type": "code",
   "execution_count": 25,
   "id": "fb7d54e5",
   "metadata": {},
   "outputs": [
    {
     "data": {
      "text/plain": [
       "array([ 1.  ,  2.  ,  3.45,  9.  , 89.  ,  2.  ])"
      ]
     },
     "execution_count": 25,
     "metadata": {},
     "output_type": "execute_result"
    }
   ],
   "source": [
    "#converts all the elements to same datatype\n",
    "arr = [1,2,3.45,9,89,2]\n",
    "np_ar = np.array(arr)\n",
    "np_ar"
   ]
  },
  {
   "cell_type": "code",
   "execution_count": 26,
   "id": "acebe4ac",
   "metadata": {},
   "outputs": [
    {
     "data": {
      "text/plain": [
       "array([ 1.  ,  2.  ,  3.45,  9.  , 89.  ,  2.  , 78.  ])"
      ]
     },
     "execution_count": 26,
     "metadata": {},
     "output_type": "execute_result"
    }
   ],
   "source": [
    "#to add element to array\n",
    "new_ar = np.append(np_ar,78)\n",
    "new_ar"
   ]
  },
  {
   "cell_type": "code",
   "execution_count": 27,
   "id": "9cdd6571",
   "metadata": {},
   "outputs": [
    {
     "data": {
      "text/plain": [
       "array([ 1.  ,  2.  ,  3.45,  9.  , 89.  ,  2.  , 56.  , 90.  , 89.  ])"
      ]
     },
     "execution_count": 27,
     "metadata": {},
     "output_type": "execute_result"
    }
   ],
   "source": [
    "#to add multiple values to array\n",
    "new_ar = np.append(np_ar, [56,90,89])\n",
    "new_ar"
   ]
  },
  {
   "cell_type": "code",
   "execution_count": 28,
   "id": "92d6932f",
   "metadata": {},
   "outputs": [
    {
     "data": {
      "text/plain": [
       "array([  1.  ,   2.  ,   3.45, 123.  ,   9.  ,  89.  ,   2.  ])"
      ]
     },
     "execution_count": 28,
     "metadata": {},
     "output_type": "execute_result"
    }
   ],
   "source": [
    "#inserting element based on index value\n",
    "new_ar = np.insert(np_ar, 3, 123)\n",
    "new_ar"
   ]
  },
  {
   "cell_type": "code",
   "execution_count": 29,
   "id": "5a0150d1",
   "metadata": {},
   "outputs": [
    {
     "data": {
      "text/plain": [
       "array([  1.  ,   2.  ,   3.45, 456.  , 932.  , 189.  ,   9.  ,  89.  ,\n",
       "         2.  ])"
      ]
     },
     "execution_count": 29,
     "metadata": {},
     "output_type": "execute_result"
    }
   ],
   "source": [
    "#inserting multiple elements based on index value\n",
    "new_ar = np.insert(np_ar, 3, [456, 932, 189])\n",
    "new_ar"
   ]
  },
  {
   "cell_type": "code",
   "execution_count": 30,
   "id": "2218f38c",
   "metadata": {},
   "outputs": [
    {
     "data": {
      "text/plain": [
       "array([ 1.  ,  2.  ,  3.45,  9.  , 89.  ,  2.  ])"
      ]
     },
     "execution_count": 30,
     "metadata": {},
     "output_type": "execute_result"
    }
   ],
   "source": [
    "np_ar"
   ]
  },
  {
   "cell_type": "code",
   "execution_count": 32,
   "id": "71892e9a",
   "metadata": {},
   "outputs": [
    {
     "data": {
      "text/plain": [
       "array([ 1.  ,  3.45,  9.  , 89.  ])"
      ]
     },
     "execution_count": 32,
     "metadata": {},
     "output_type": "execute_result"
    }
   ],
   "source": [
    "#delete element from array\n",
    "nr = np.delete(np_ar, np.where(np_ar==2.0))\n",
    "nr"
   ]
  },
  {
   "cell_type": "code",
   "execution_count": 33,
   "id": "a2eb84e6",
   "metadata": {},
   "outputs": [
    {
     "data": {
      "text/plain": [
       "array([ 3.45, 89.  ])"
      ]
     },
     "execution_count": 33,
     "metadata": {},
     "output_type": "execute_result"
    }
   ],
   "source": [
    "#to delete no.of values in array\n",
    "nr = np.setdiff1d(np_ar, [1.0,2.0,9.0])\n",
    "nr"
   ]
  },
  {
   "cell_type": "code",
   "execution_count": 35,
   "id": "2e26ee96",
   "metadata": {},
   "outputs": [
    {
     "name": "stdout",
     "output_type": "stream",
     "text": [
      "[ 1.    2.    3.45 89.    2.  ]\n",
      "[ 1.  9. 89.  2.]\n"
     ]
    }
   ],
   "source": [
    "#to delete based on index position\n",
    "nr = np.delete(np_ar, 3)\n",
    "print(nr)\n",
    "#to delete multiple values based on index position\n",
    "nr = np.delete(np_ar, [1,2])\n",
    "print(nr)"
   ]
  },
  {
   "cell_type": "code",
   "execution_count": 36,
   "id": "befb67d1",
   "metadata": {},
   "outputs": [
    {
     "name": "stdout",
     "output_type": "stream",
     "text": [
      "[ True False  True False False  True False  True  True  True  True]\n",
      "[ 1 23 12 26 15  8  7]\n"
     ]
    }
   ],
   "source": [
    "l2 = [1,45,23,90,78,12,94,26,15,8,7]\n",
    "new_ar = np.array(l2)\n",
    "#Filter in numpy array\n",
    "print(new_ar<30)\n",
    "print(new_ar[new_ar<30])"
   ]
  },
  {
   "cell_type": "code",
   "execution_count": 37,
   "id": "873d4550",
   "metadata": {},
   "outputs": [
    {
     "name": "stdout",
     "output_type": "stream",
     "text": [
      "[False  True  True False False False False  True False False False]\n",
      "[45 23 26]\n"
     ]
    }
   ],
   "source": [
    "#values < 20 and values > 50\n",
    "print((new_ar>20) & (new_ar<50))\n",
    "print(new_ar[(new_ar>20) & (new_ar<50)])"
   ]
  },
  {
   "cell_type": "code",
   "execution_count": 38,
   "id": "366d2aec",
   "metadata": {},
   "outputs": [
    {
     "data": {
      "text/plain": [
       "array([  1,  45, 156,  90,  78,  12,  94,  26,  15,   8,   7])"
      ]
     },
     "execution_count": 38,
     "metadata": {},
     "output_type": "execute_result"
    }
   ],
   "source": [
    "#to replace value in array\n",
    "new_ar[new_ar==23]=156\n",
    "new_ar"
   ]
  },
  {
   "cell_type": "code",
   "execution_count": 43,
   "id": "6ff5ea7d",
   "metadata": {},
   "outputs": [
    {
     "name": "stdout",
     "output_type": "stream",
     "text": [
      "[0. 0. 0. 0. 0.]\n",
      "\n",
      " [[0. 0. 0. 0. 0.]\n",
      " [0. 0. 0. 0. 0.]\n",
      " [0. 0. 0. 0. 0.]]\n",
      "\n",
      " [2. 2. 2. 2.]\n",
      "\n",
      " [[1. 1. 1. 1. 1.]\n",
      " [1. 1. 1. 1. 1.]\n",
      " [1. 1. 1. 1. 1.]]\n"
     ]
    }
   ],
   "source": [
    "#to create 1d array full of zeros\n",
    "print(np.zeros(5))\n",
    "#to create 2d array full of zeros\n",
    "print(\"\\n\",np.zeros([3,5]))\n",
    "#to create 1d array full of ones\n",
    "print(\"\\n\",np.ones(4)+1)\n",
    "#to create 2d array full of ones\n",
    "print(\"\\n\",np.ones([3,5]))"
   ]
  },
  {
   "cell_type": "code",
   "execution_count": 44,
   "id": "dd9f355e",
   "metadata": {},
   "outputs": [
    {
     "name": "stdout",
     "output_type": "stream",
     "text": [
      "float64\n",
      "[[1 1 1 1]\n",
      " [1 1 1 1]\n",
      " [1 1 1 1]]\n",
      "int32\n"
     ]
    }
   ],
   "source": [
    "#type convert the element in array\n",
    "#to find numpy datatype of element --> dtype\n",
    "ar = np.ones([3,4])\n",
    "print(ar.dtype)\n",
    "ar = np.ones([3,4], dtype=int)\n",
    "print(ar)\n",
    "print(ar.dtype)"
   ]
  },
  {
   "cell_type": "code",
   "execution_count": 50,
   "id": "1005e792",
   "metadata": {},
   "outputs": [
    {
     "name": "stdout",
     "output_type": "stream",
     "text": [
      "[[0. 0. 0. 0.]\n",
      " [0. 0. 0. 0.]]\n",
      "\n",
      " [[0 0 0 0]\n",
      " [0 0 0 0]]\n"
     ]
    }
   ],
   "source": [
    "#type convert the elements into various bits --> int16, int23, complex64...\n",
    "#changing to float\n",
    "ar = np.zeros([2,4], dtype=\"float32\")\n",
    "print(ar)\n",
    "#changing again into int\n",
    "print(\"\\n\",np.int16(ar))"
   ]
  },
  {
   "cell_type": "code",
   "execution_count": 9,
   "id": "358600a3",
   "metadata": {},
   "outputs": [
    {
     "data": {
      "text/plain": [
       "(array([ 1.  ,  3.25,  5.5 ,  7.75, 10.  ]), 2.25)"
      ]
     },
     "execution_count": 9,
     "metadata": {},
     "output_type": "execute_result"
    }
   ],
   "source": [
    "#to print evenly seperated points b/w 2 range of values --> linspace(start, end, no.of values)\n",
    "np.linspace(1,10,5)\n",
    "np.linspace(1,10,5, retstep=True) #shows the difference --> retstep()"
   ]
  },
  {
   "cell_type": "code",
   "execution_count": 10,
   "id": "e769c49e",
   "metadata": {},
   "outputs": [
    {
     "data": {
      "text/plain": [
       "23"
      ]
     },
     "execution_count": 10,
     "metadata": {},
     "output_type": "execute_result"
    }
   ],
   "source": [
    "#random module\n",
    "#np.random.randint(start, end)\n",
    "np.random.randint(20, 30)"
   ]
  },
  {
   "cell_type": "code",
   "execution_count": 11,
   "id": "6f7c059c",
   "metadata": {},
   "outputs": [
    {
     "data": {
      "text/plain": [
       "array([[ 1.04561362,  0.16759046, -0.41048036,  1.39404418],\n",
       "       [ 0.38661777, -0.10754625,  0.60684145,  1.15756147],\n",
       "       [-0.50257716, -1.85257614, -0.26422393,  0.2872465 ],\n",
       "       [-1.21715628,  2.65305324,  1.41088019,  0.03296527],\n",
       "       [ 1.0091118 , -0.63340935, -0.72450516, -3.05591276]])"
      ]
     },
     "execution_count": 11,
     "metadata": {},
     "output_type": "execute_result"
    }
   ],
   "source": [
    "#rand() --> to get randomly values from 0 to 1, based on uniform distribution\n",
    "np.random.rand(4)\n",
    "#normalized distribution\n",
    "np.random.randn(5,4)"
   ]
  },
  {
   "cell_type": "code",
   "execution_count": 12,
   "id": "e0dad67e",
   "metadata": {},
   "outputs": [
    {
     "data": {
      "text/plain": [
       "24"
      ]
     },
     "execution_count": 12,
     "metadata": {},
     "output_type": "execute_result"
    }
   ],
   "source": [
    "#min and max values\n",
    "ar2.min()\n",
    "ar2.max()"
   ]
  },
  {
   "cell_type": "code",
   "execution_count": 13,
   "id": "791148c0",
   "metadata": {},
   "outputs": [
    {
     "data": {
      "text/plain": [
       "24"
      ]
     },
     "execution_count": 13,
     "metadata": {},
     "output_type": "execute_result"
    }
   ],
   "source": [
    "#to find the index of min,max values\n",
    "ar2.argmin()\n",
    "ar2.argmax()"
   ]
  },
  {
   "cell_type": "code",
   "execution_count": 14,
   "id": "aefc3586",
   "metadata": {},
   "outputs": [
    {
     "data": {
      "text/plain": [
       "array([ 0.64209262, -0.45765755, -7.01525255,  0.86369115, -0.29581292,\n",
       "       -3.436353  ,  1.14751542, -0.14706506])"
      ]
     },
     "execution_count": 14,
     "metadata": {},
     "output_type": "execute_result"
    }
   ],
   "source": [
    "#sin values\n",
    "ar3 = np.arange(1,9)\n",
    "np.sin(ar3)\n",
    "np.cos(ar3)/np.sin(ar3)"
   ]
  },
  {
   "cell_type": "code",
   "execution_count": 15,
   "id": "e971a5fb",
   "metadata": {},
   "outputs": [
    {
     "data": {
      "text/plain": [
       "32"
      ]
     },
     "execution_count": 15,
     "metadata": {},
     "output_type": "execute_result"
    }
   ],
   "source": [
    "#to perform (1x4)+(2x5)+(3x6)-->32\n",
    "np2 = np.array([1,2,3])\n",
    "np3 = np.array([4,5,6])\n",
    "pro = np2*np3\n",
    "sum(pro)\n",
    "np.dot(np2,np3)"
   ]
  },
  {
   "cell_type": "code",
   "execution_count": 16,
   "id": "eaf70957",
   "metadata": {},
   "outputs": [
    {
     "data": {
      "text/plain": [
       "51"
      ]
     },
     "execution_count": 16,
     "metadata": {},
     "output_type": "execute_result"
    }
   ],
   "source": [
    "#replacing empty element values with 1\n",
    "np2 = np.array([1,2,3,9,10])\n",
    "np3 = np.array([4,5,6])\n",
    "length = len(np2)-len(np3)\n",
    "for i in range(length):\n",
    "    np3 = np.append(np3,1)\n",
    "pro = np2*np3\n",
    "sum(pro)"
   ]
  },
  {
   "cell_type": "code",
   "execution_count": 17,
   "id": "8e6bc23e",
   "metadata": {},
   "outputs": [
    {
     "name": "stdout",
     "output_type": "stream",
     "text": [
      "[ 1. 34. 56. 78. nan nan]\n",
      "[ 1. 34. 56. 78.]\n"
     ]
    }
   ],
   "source": [
    "#inserting not a number value\n",
    "np1 = np.array([1,34,56,78,np.nan,np.nan])\n",
    "print(np1)\n",
    "print(np1[~np.isnan(np1)]) #removing nan"
   ]
  }
 ],
 "metadata": {
  "kernelspec": {
   "display_name": "Python 3 (ipykernel)",
   "language": "python",
   "name": "python3"
  },
  "language_info": {
   "codemirror_mode": {
    "name": "ipython",
    "version": 3
   },
   "file_extension": ".py",
   "mimetype": "text/x-python",
   "name": "python",
   "nbconvert_exporter": "python",
   "pygments_lexer": "ipython3",
   "version": "3.11.5"
  }
 },
 "nbformat": 4,
 "nbformat_minor": 5
}

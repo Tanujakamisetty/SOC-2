{
 "cells": [
  {
   "cell_type": "code",
   "execution_count": 3,
   "id": "ae0cd50e",
   "metadata": {},
   "outputs": [],
   "source": [
    "#Pandas\n",
    "#Pandas is defined as an open-source library that provides high-performance data manipulation in python.\n",
    "#Data analytics requires lot of processing such as restructuring, cleaning, mergin, manipulating etc...We prefer Pandas to \n",
    "#perform above functionalities coz it is fast, simple than other tools.\n",
    "#Pandas is built on Numpy, Numpy is required for operating pandas."
   ]
  },
  {
   "cell_type": "code",
   "execution_count": 4,
   "id": "75adbaa1",
   "metadata": {},
   "outputs": [],
   "source": [
    "#Pandas Series\n",
    "#Pandas Series is a data structure with one dimentional labelled array. It is a primary building block of Dataframe, \n",
    "#making its rows and columns."
   ]
  },
  {
   "cell_type": "code",
   "execution_count": 2,
   "id": "7aed123f",
   "metadata": {},
   "outputs": [],
   "source": [
    "import numpy as np\n",
    "labels = ['a','b','c']\n",
    "my_data = [10,20,30]\n",
    "arr = np.array(my_data)\n",
    "d = {'a':100,'b':200,'c':300}"
   ]
  },
  {
   "cell_type": "code",
   "execution_count": 3,
   "id": "e38aa8d8",
   "metadata": {},
   "outputs": [
    {
     "data": {
      "text/plain": [
       "0    10\n",
       "1    20\n",
       "2    30\n",
       "dtype: int64"
      ]
     },
     "execution_count": 3,
     "metadata": {},
     "output_type": "execute_result"
    }
   ],
   "source": [
    "#Syntax --> pandas.Series(data=None, index=None, dtype=None, name=None, copy=True or False)\n",
    "#E.g-1\n",
    "import pandas as pd\n",
    "pd.Series(my_data)"
   ]
  },
  {
   "cell_type": "code",
   "execution_count": 4,
   "id": "c9d2feb3",
   "metadata": {},
   "outputs": [
    {
     "data": {
      "text/plain": [
       "pandas.core.series.Series"
      ]
     },
     "execution_count": 4,
     "metadata": {},
     "output_type": "execute_result"
    }
   ],
   "source": [
    "type(pd.Series(my_data))"
   ]
  },
  {
   "cell_type": "code",
   "execution_count": 5,
   "id": "2f54676f",
   "metadata": {},
   "outputs": [
    {
     "data": {
      "text/plain": [
       "a    10\n",
       "b    20\n",
       "c    30\n",
       "dtype: int64"
      ]
     },
     "execution_count": 5,
     "metadata": {},
     "output_type": "execute_result"
    }
   ],
   "source": [
    "#Series with labels\n",
    "pd.Series(data=my_data, index=labels)\n",
    "#                 or\n",
    "pd.Series(my_data, labels)"
   ]
  },
  {
   "cell_type": "code",
   "execution_count": 6,
   "id": "ec2c308e",
   "metadata": {},
   "outputs": [
    {
     "data": {
      "text/plain": [
       "0    <built-in function print>\n",
       "1      <built-in function len>\n",
       "2      <built-in function sum>\n",
       "dtype: object"
      ]
     },
     "execution_count": 6,
     "metadata": {},
     "output_type": "execute_result"
    }
   ],
   "source": [
    "pd.Series(data=[print, len, sum])"
   ]
  },
  {
   "cell_type": "code",
   "execution_count": 7,
   "id": "7147014e",
   "metadata": {},
   "outputs": [
    {
     "name": "stdout",
     "output_type": "stream",
     "text": [
      "GOOD MORNING\n"
     ]
    }
   ],
   "source": [
    "#decorator\n",
    "def decor(func):\n",
    "    def inner():\n",
    "        str1 = func()\n",
    "        return str1.upper()\n",
    "    return inner\n",
    "\n",
    "@decor\n",
    "def greet():\n",
    "    return \"good morning\"\n",
    "print(greet())"
   ]
  },
  {
   "cell_type": "code",
   "execution_count": 8,
   "id": "85267629",
   "metadata": {},
   "outputs": [
    {
     "data": {
      "text/plain": [
       "USA       1\n",
       "India     2\n",
       "Canada    3\n",
       "UK        4\n",
       "Egypt     5\n",
       "dtype: int64"
      ]
     },
     "execution_count": 8,
     "metadata": {},
     "output_type": "execute_result"
    }
   ],
   "source": [
    "ser1 = pd.Series([1,2,3,4,5],[\"USA\",\"India\",\"Canada\",\"UK\",\"Egypt\"])\n",
    "ser1"
   ]
  },
  {
   "cell_type": "code",
   "execution_count": 9,
   "id": "52cb71dc",
   "metadata": {},
   "outputs": [
    {
     "data": {
      "text/plain": [
       "USA       1\n",
       "India     2\n",
       "Canada    3\n",
       "dtype: int64"
      ]
     },
     "execution_count": 9,
     "metadata": {},
     "output_type": "execute_result"
    }
   ],
   "source": [
    "#access values using index\n",
    "ser1[0:3]"
   ]
  },
  {
   "cell_type": "code",
   "execution_count": 10,
   "id": "a18e99c2",
   "metadata": {},
   "outputs": [
    {
     "data": {
      "text/plain": [
       "Brazil     NaN\n",
       "Canada    10.0\n",
       "Egypt      NaN\n",
       "India      NaN\n",
       "UK        12.0\n",
       "USA        6.0\n",
       "dtype: float64"
      ]
     },
     "execution_count": 10,
     "metadata": {},
     "output_type": "execute_result"
    }
   ],
   "source": [
    "ser2 = pd.Series([5,6,7,8],[\"USA\",\"Brazil\",\"Canada\",\"UK\"])\n",
    "ser1+ser2"
   ]
  },
  {
   "cell_type": "code",
   "execution_count": 11,
   "id": "e2d49072",
   "metadata": {},
   "outputs": [
    {
     "data": {
      "text/plain": [
       "USA               5\n",
       "Brazil            6\n",
       "Canada            7\n",
       "UK                8\n",
       "china     duplicate\n",
       "dtype: object"
      ]
     },
     "execution_count": 11,
     "metadata": {},
     "output_type": "execute_result"
    }
   ],
   "source": [
    "# To create a new data in series\n",
    "ser2['china'] = 'duplicate'\n",
    "ser2"
   ]
  },
  {
   "cell_type": "code",
   "execution_count": 12,
   "id": "a4fad1e8",
   "metadata": {},
   "outputs": [
    {
     "data": {
      "text/html": [
       "<div>\n",
       "<style scoped>\n",
       "    .dataframe tbody tr th:only-of-type {\n",
       "        vertical-align: middle;\n",
       "    }\n",
       "\n",
       "    .dataframe tbody tr th {\n",
       "        vertical-align: top;\n",
       "    }\n",
       "\n",
       "    .dataframe thead th {\n",
       "        text-align: right;\n",
       "    }\n",
       "</style>\n",
       "<table border=\"1\" class=\"dataframe\">\n",
       "  <thead>\n",
       "    <tr style=\"text-align: right;\">\n",
       "      <th></th>\n",
       "      <th>0</th>\n",
       "      <th>1</th>\n",
       "      <th>2</th>\n",
       "      <th>3</th>\n",
       "    </tr>\n",
       "  </thead>\n",
       "  <tbody>\n",
       "    <tr>\n",
       "      <th>0</th>\n",
       "      <td>-0.743617</td>\n",
       "      <td>0.043163</td>\n",
       "      <td>1.257809</td>\n",
       "      <td>-0.441337</td>\n",
       "    </tr>\n",
       "    <tr>\n",
       "      <th>1</th>\n",
       "      <td>-0.634113</td>\n",
       "      <td>-0.099980</td>\n",
       "      <td>2.282786</td>\n",
       "      <td>-0.816584</td>\n",
       "    </tr>\n",
       "    <tr>\n",
       "      <th>2</th>\n",
       "      <td>0.166242</td>\n",
       "      <td>-0.432571</td>\n",
       "      <td>-1.512663</td>\n",
       "      <td>-0.235004</td>\n",
       "    </tr>\n",
       "    <tr>\n",
       "      <th>3</th>\n",
       "      <td>-0.695917</td>\n",
       "      <td>1.006487</td>\n",
       "      <td>0.154597</td>\n",
       "      <td>-1.137518</td>\n",
       "    </tr>\n",
       "    <tr>\n",
       "      <th>4</th>\n",
       "      <td>0.715899</td>\n",
       "      <td>0.261169</td>\n",
       "      <td>-0.065419</td>\n",
       "      <td>-1.069397</td>\n",
       "    </tr>\n",
       "  </tbody>\n",
       "</table>\n",
       "</div>"
      ],
      "text/plain": [
       "          0         1         2         3\n",
       "0 -0.743617  0.043163  1.257809 -0.441337\n",
       "1 -0.634113 -0.099980  2.282786 -0.816584\n",
       "2  0.166242 -0.432571 -1.512663 -0.235004\n",
       "3 -0.695917  1.006487  0.154597 -1.137518\n",
       "4  0.715899  0.261169 -0.065419 -1.069397"
      ]
     },
     "execution_count": 12,
     "metadata": {},
     "output_type": "execute_result"
    }
   ],
   "source": [
    "#Dataframe\n",
    "#pd.DataFrame(datas, row_label, col_label)\n",
    "df = pd.DataFrame(np.random.randn(5,4))\n",
    "df"
   ]
  },
  {
   "cell_type": "code",
   "execution_count": 29,
   "id": "a43387df",
   "metadata": {},
   "outputs": [
    {
     "data": {
      "text/html": [
       "<div>\n",
       "<style scoped>\n",
       "    .dataframe tbody tr th:only-of-type {\n",
       "        vertical-align: middle;\n",
       "    }\n",
       "\n",
       "    .dataframe tbody tr th {\n",
       "        vertical-align: top;\n",
       "    }\n",
       "\n",
       "    .dataframe thead th {\n",
       "        text-align: right;\n",
       "    }\n",
       "</style>\n",
       "<table border=\"1\" class=\"dataframe\">\n",
       "  <thead>\n",
       "    <tr style=\"text-align: right;\">\n",
       "      <th></th>\n",
       "      <th>w</th>\n",
       "      <th>x</th>\n",
       "      <th>y</th>\n",
       "      <th>z</th>\n",
       "    </tr>\n",
       "  </thead>\n",
       "  <tbody>\n",
       "    <tr>\n",
       "      <th>A</th>\n",
       "      <td>-1.390346</td>\n",
       "      <td>-0.617943</td>\n",
       "      <td>-0.235332</td>\n",
       "      <td>1.834664</td>\n",
       "    </tr>\n",
       "    <tr>\n",
       "      <th>B</th>\n",
       "      <td>0.776284</td>\n",
       "      <td>-2.006753</td>\n",
       "      <td>-1.595141</td>\n",
       "      <td>0.525834</td>\n",
       "    </tr>\n",
       "    <tr>\n",
       "      <th>C</th>\n",
       "      <td>0.044868</td>\n",
       "      <td>-0.131634</td>\n",
       "      <td>-0.026057</td>\n",
       "      <td>-0.599927</td>\n",
       "    </tr>\n",
       "    <tr>\n",
       "      <th>D</th>\n",
       "      <td>-1.316303</td>\n",
       "      <td>0.486794</td>\n",
       "      <td>-0.961434</td>\n",
       "      <td>-1.379597</td>\n",
       "    </tr>\n",
       "    <tr>\n",
       "      <th>E</th>\n",
       "      <td>0.456750</td>\n",
       "      <td>-1.923114</td>\n",
       "      <td>-0.885952</td>\n",
       "      <td>0.328777</td>\n",
       "    </tr>\n",
       "  </tbody>\n",
       "</table>\n",
       "</div>"
      ],
      "text/plain": [
       "          w         x         y         z\n",
       "A -1.390346 -0.617943 -0.235332  1.834664\n",
       "B  0.776284 -2.006753 -1.595141  0.525834\n",
       "C  0.044868 -0.131634 -0.026057 -0.599927\n",
       "D -1.316303  0.486794 -0.961434 -1.379597\n",
       "E  0.456750 -1.923114 -0.885952  0.328777"
      ]
     },
     "execution_count": 29,
     "metadata": {},
     "output_type": "execute_result"
    }
   ],
   "source": [
    "df = pd.DataFrame(np.random.randn(5,4), ['A','B','C','D','E'],['w','x','y','z'])\n",
    "df"
   ]
  },
  {
   "cell_type": "code",
   "execution_count": 28,
   "id": "a93ce997",
   "metadata": {},
   "outputs": [
    {
     "name": "stdout",
     "output_type": "stream",
     "text": [
      "{'col1': [1, 2], 'col2': [3, 40], 'col3': [5, 6]}\n",
      "\n",
      "       col1  col2  col3\n",
      "row1     1     3     5\n",
      "row2     2    40     6\n"
     ]
    }
   ],
   "source": [
    "# To convert dictionary to DataFrame\n",
    "d = {\"col1\":[1,2], \"col2\":[3,40], \"col3\":[5,6]}\n",
    "print(d)\n",
    "df = pd.DataFrame(d, ['row1','row2'])\n",
    "print(\"\\n\",df)"
   ]
  },
  {
   "cell_type": "code",
   "execution_count": 31,
   "id": "b65d1d45",
   "metadata": {},
   "outputs": [
    {
     "data": {
      "text/html": [
       "<div>\n",
       "<style scoped>\n",
       "    .dataframe tbody tr th:only-of-type {\n",
       "        vertical-align: middle;\n",
       "    }\n",
       "\n",
       "    .dataframe tbody tr th {\n",
       "        vertical-align: top;\n",
       "    }\n",
       "\n",
       "    .dataframe thead th {\n",
       "        text-align: right;\n",
       "    }\n",
       "</style>\n",
       "<table border=\"1\" class=\"dataframe\">\n",
       "  <thead>\n",
       "    <tr style=\"text-align: right;\">\n",
       "      <th></th>\n",
       "      <th>A</th>\n",
       "      <th>B</th>\n",
       "      <th>C</th>\n",
       "      <th>D</th>\n",
       "      <th>E</th>\n",
       "    </tr>\n",
       "  </thead>\n",
       "  <tbody>\n",
       "    <tr>\n",
       "      <th>w</th>\n",
       "      <td>-1.390346</td>\n",
       "      <td>0.776284</td>\n",
       "      <td>0.044868</td>\n",
       "      <td>-1.316303</td>\n",
       "      <td>0.456750</td>\n",
       "    </tr>\n",
       "    <tr>\n",
       "      <th>x</th>\n",
       "      <td>-0.617943</td>\n",
       "      <td>-2.006753</td>\n",
       "      <td>-0.131634</td>\n",
       "      <td>0.486794</td>\n",
       "      <td>-1.923114</td>\n",
       "    </tr>\n",
       "    <tr>\n",
       "      <th>y</th>\n",
       "      <td>-0.235332</td>\n",
       "      <td>-1.595141</td>\n",
       "      <td>-0.026057</td>\n",
       "      <td>-0.961434</td>\n",
       "      <td>-0.885952</td>\n",
       "    </tr>\n",
       "    <tr>\n",
       "      <th>z</th>\n",
       "      <td>1.834664</td>\n",
       "      <td>0.525834</td>\n",
       "      <td>-0.599927</td>\n",
       "      <td>-1.379597</td>\n",
       "      <td>0.328777</td>\n",
       "    </tr>\n",
       "  </tbody>\n",
       "</table>\n",
       "</div>"
      ],
      "text/plain": [
       "          A         B         C         D         E\n",
       "w -1.390346  0.776284  0.044868 -1.316303  0.456750\n",
       "x -0.617943 -2.006753 -0.131634  0.486794 -1.923114\n",
       "y -0.235332 -1.595141 -0.026057 -0.961434 -0.885952\n",
       "z  1.834664  0.525834 -0.599927 -1.379597  0.328777"
      ]
     },
     "execution_count": 31,
     "metadata": {},
     "output_type": "execute_result"
    }
   ],
   "source": [
    "#Transpose\n",
    "df.T"
   ]
  },
  {
   "cell_type": "code",
   "execution_count": 40,
   "id": "8c05256f",
   "metadata": {},
   "outputs": [
    {
     "name": "stdout",
     "output_type": "stream",
     "text": [
      "<class 'pandas.core.frame.DataFrame'>\n",
      "Index: 5 entries, A to E\n",
      "Data columns (total 4 columns):\n",
      " #   Column  Non-Null Count  Dtype  \n",
      "---  ------  --------------  -----  \n",
      " 0   w       5 non-null      float64\n",
      " 1   x       5 non-null      float64\n",
      " 2   y       5 non-null      float64\n",
      " 3   z       5 non-null      float64\n",
      "dtypes: float64(4)\n",
      "memory usage: 372.0+ bytes\n"
     ]
    },
    {
     "data": {
      "text/plain": [
       "20"
      ]
     },
     "execution_count": 40,
     "metadata": {},
     "output_type": "execute_result"
    }
   ],
   "source": [
    "df.index #-->get all the row names\n",
    "df.columns\n",
    "type(df)\n",
    "df.dtypes\n",
    "df.info()\n",
    "df.values\n",
    "df.axes\n",
    "df.ndim\n",
    "df.size"
   ]
  },
  {
   "cell_type": "code",
   "execution_count": null,
   "id": "09a0c9bc",
   "metadata": {},
   "outputs": [
    {
     "data": {
      "text/html": [
       "<div>\n",
       "<style scoped>\n",
       "    .dataframe tbody tr th:only-of-type {\n",
       "        vertical-align: middle;\n",
       "    }\n",
       "\n",
       "    .dataframe tbody tr th {\n",
       "        vertical-align: top;\n",
       "    }\n",
       "\n",
       "    .dataframe thead th {\n",
       "        text-align: right;\n",
       "    }\n",
       "</style>\n",
       "<table border=\"1\" class=\"dataframe\">\n",
       "  <thead>\n",
       "    <tr style=\"text-align: right;\">\n",
       "      <th></th>\n",
       "      <th>w</th>\n",
       "      <th>x</th>\n",
       "      <th>y</th>\n",
       "    </tr>\n",
       "  </thead>\n",
       "  <tbody>\n",
       "    <tr>\n",
       "      <th>A</th>\n",
       "      <td>-1.390346</td>\n",
       "      <td>-0.617943</td>\n",
       "      <td>-0.235332</td>\n",
       "    </tr>\n",
       "    <tr>\n",
       "      <th>B</th>\n",
       "      <td>0.776284</td>\n",
       "      <td>-2.006753</td>\n",
       "      <td>-1.595141</td>\n",
       "    </tr>\n",
       "    <tr>\n",
       "      <th>C</th>\n",
       "      <td>0.044868</td>\n",
       "      <td>-0.131634</td>\n",
       "      <td>-0.026057</td>\n",
       "    </tr>\n",
       "    <tr>\n",
       "      <th>D</th>\n",
       "      <td>-1.316303</td>\n",
       "      <td>0.486794</td>\n",
       "      <td>-0.961434</td>\n",
       "    </tr>\n",
       "    <tr>\n",
       "      <th>E</th>\n",
       "      <td>0.456750</td>\n",
       "      <td>-1.923114</td>\n",
       "      <td>-0.885952</td>\n",
       "    </tr>\n",
       "  </tbody>\n",
       "</table>\n",
       "</div>"
      ],
      "text/plain": [
       "          w         x         y\n",
       "A -1.390346 -0.617943 -0.235332\n",
       "B  0.776284 -2.006753 -1.595141\n",
       "C  0.044868 -0.131634 -0.026057\n",
       "D -1.316303  0.486794 -0.961434\n",
       "E  0.456750 -1.923114 -0.885952"
      ]
     },
     "execution_count": 44,
     "metadata": {},
     "output_type": "execute_result"
    }
   ],
   "source": [
    "# To access specific column in df\n",
    "df['w']\n",
    "type(df['w'])\n",
    "#to access multiple columns\n",
    "df[['w','x','y']]"
   ]
  },
  {
   "cell_type": "code",
   "execution_count": 53,
   "id": "503ea8a3",
   "metadata": {
    "scrolled": true
   },
   "outputs": [
    {
     "data": {
      "text/html": [
       "<div>\n",
       "<style scoped>\n",
       "    .dataframe tbody tr th:only-of-type {\n",
       "        vertical-align: middle;\n",
       "    }\n",
       "\n",
       "    .dataframe tbody tr th {\n",
       "        vertical-align: top;\n",
       "    }\n",
       "\n",
       "    .dataframe thead th {\n",
       "        text-align: right;\n",
       "    }\n",
       "</style>\n",
       "<table border=\"1\" class=\"dataframe\">\n",
       "  <thead>\n",
       "    <tr style=\"text-align: right;\">\n",
       "      <th></th>\n",
       "      <th>w</th>\n",
       "      <th>x</th>\n",
       "      <th>y</th>\n",
       "      <th>z</th>\n",
       "      <th>new</th>\n",
       "    </tr>\n",
       "  </thead>\n",
       "  <tbody>\n",
       "    <tr>\n",
       "      <th>A</th>\n",
       "      <td>-1.390346</td>\n",
       "      <td>-0.617943</td>\n",
       "      <td>-0.235332</td>\n",
       "      <td>1.834664</td>\n",
       "      <td>-1.625679</td>\n",
       "    </tr>\n",
       "    <tr>\n",
       "      <th>B</th>\n",
       "      <td>0.776284</td>\n",
       "      <td>-2.006753</td>\n",
       "      <td>-1.595141</td>\n",
       "      <td>0.525834</td>\n",
       "      <td>-0.818857</td>\n",
       "    </tr>\n",
       "    <tr>\n",
       "      <th>C</th>\n",
       "      <td>0.044868</td>\n",
       "      <td>-0.131634</td>\n",
       "      <td>-0.026057</td>\n",
       "      <td>-0.599927</td>\n",
       "      <td>0.018811</td>\n",
       "    </tr>\n",
       "    <tr>\n",
       "      <th>D</th>\n",
       "      <td>-1.316303</td>\n",
       "      <td>0.486794</td>\n",
       "      <td>-0.961434</td>\n",
       "      <td>-1.379597</td>\n",
       "      <td>-2.277737</td>\n",
       "    </tr>\n",
       "    <tr>\n",
       "      <th>E</th>\n",
       "      <td>0.456750</td>\n",
       "      <td>-1.923114</td>\n",
       "      <td>-0.885952</td>\n",
       "      <td>0.328777</td>\n",
       "      <td>-0.429202</td>\n",
       "    </tr>\n",
       "  </tbody>\n",
       "</table>\n",
       "</div>"
      ],
      "text/plain": [
       "          w         x         y         z       new\n",
       "A -1.390346 -0.617943 -0.235332  1.834664 -1.625679\n",
       "B  0.776284 -2.006753 -1.595141  0.525834 -0.818857\n",
       "C  0.044868 -0.131634 -0.026057 -0.599927  0.018811\n",
       "D -1.316303  0.486794 -0.961434 -1.379597 -2.277737\n",
       "E  0.456750 -1.923114 -0.885952  0.328777 -0.429202"
      ]
     },
     "execution_count": 53,
     "metadata": {},
     "output_type": "execute_result"
    }
   ],
   "source": [
    "#to create new column\n",
    "df['new'] = df['w']+df['y']\n",
    "df"
   ]
  },
  {
   "cell_type": "code",
   "execution_count": 54,
   "id": "0862a3c9",
   "metadata": {},
   "outputs": [
    {
     "data": {
      "text/html": [
       "<div>\n",
       "<style scoped>\n",
       "    .dataframe tbody tr th:only-of-type {\n",
       "        vertical-align: middle;\n",
       "    }\n",
       "\n",
       "    .dataframe tbody tr th {\n",
       "        vertical-align: top;\n",
       "    }\n",
       "\n",
       "    .dataframe thead th {\n",
       "        text-align: right;\n",
       "    }\n",
       "</style>\n",
       "<table border=\"1\" class=\"dataframe\">\n",
       "  <thead>\n",
       "    <tr style=\"text-align: right;\">\n",
       "      <th></th>\n",
       "      <th>w</th>\n",
       "      <th>x</th>\n",
       "      <th>y</th>\n",
       "      <th>z</th>\n",
       "    </tr>\n",
       "  </thead>\n",
       "  <tbody>\n",
       "    <tr>\n",
       "      <th>A</th>\n",
       "      <td>-1.390346</td>\n",
       "      <td>-0.617943</td>\n",
       "      <td>-0.235332</td>\n",
       "      <td>1.834664</td>\n",
       "    </tr>\n",
       "    <tr>\n",
       "      <th>B</th>\n",
       "      <td>0.776284</td>\n",
       "      <td>-2.006753</td>\n",
       "      <td>-1.595141</td>\n",
       "      <td>0.525834</td>\n",
       "    </tr>\n",
       "    <tr>\n",
       "      <th>C</th>\n",
       "      <td>0.044868</td>\n",
       "      <td>-0.131634</td>\n",
       "      <td>-0.026057</td>\n",
       "      <td>-0.599927</td>\n",
       "    </tr>\n",
       "    <tr>\n",
       "      <th>D</th>\n",
       "      <td>-1.316303</td>\n",
       "      <td>0.486794</td>\n",
       "      <td>-0.961434</td>\n",
       "      <td>-1.379597</td>\n",
       "    </tr>\n",
       "    <tr>\n",
       "      <th>E</th>\n",
       "      <td>0.456750</td>\n",
       "      <td>-1.923114</td>\n",
       "      <td>-0.885952</td>\n",
       "      <td>0.328777</td>\n",
       "    </tr>\n",
       "  </tbody>\n",
       "</table>\n",
       "</div>"
      ],
      "text/plain": [
       "          w         x         y         z\n",
       "A -1.390346 -0.617943 -0.235332  1.834664\n",
       "B  0.776284 -2.006753 -1.595141  0.525834\n",
       "C  0.044868 -0.131634 -0.026057 -0.599927\n",
       "D -1.316303  0.486794 -0.961434 -1.379597\n",
       "E  0.456750 -1.923114 -0.885952  0.328777"
      ]
     },
     "execution_count": 54,
     "metadata": {},
     "output_type": "execute_result"
    }
   ],
   "source": [
    "#to remove new column\n",
    "df.drop('new', axis=1, inplace=True)\n",
    "df"
   ]
  }
 ],
 "metadata": {
  "kernelspec": {
   "display_name": "Python 3 (ipykernel)",
   "language": "python",
   "name": "python3"
  },
  "language_info": {
   "codemirror_mode": {
    "name": "ipython",
    "version": 3
   },
   "file_extension": ".py",
   "mimetype": "text/x-python",
   "name": "python",
   "nbconvert_exporter": "python",
   "pygments_lexer": "ipython3",
   "version": "3.11.5"
  }
 },
 "nbformat": 4,
 "nbformat_minor": 5
}

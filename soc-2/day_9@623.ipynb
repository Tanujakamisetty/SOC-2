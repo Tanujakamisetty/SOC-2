{
 "cells": [
  {
   "cell_type": "code",
   "execution_count": 1,
   "id": "9f223976",
   "metadata": {},
   "outputs": [
    {
     "data": {
      "text/html": [
       "<div>\n",
       "<style scoped>\n",
       "    .dataframe tbody tr th:only-of-type {\n",
       "        vertical-align: middle;\n",
       "    }\n",
       "\n",
       "    .dataframe tbody tr th {\n",
       "        vertical-align: top;\n",
       "    }\n",
       "\n",
       "    .dataframe thead th {\n",
       "        text-align: right;\n",
       "    }\n",
       "</style>\n",
       "<table border=\"1\" class=\"dataframe\">\n",
       "  <thead>\n",
       "    <tr style=\"text-align: right;\">\n",
       "      <th></th>\n",
       "      <th>Category</th>\n",
       "      <th>Message</th>\n",
       "    </tr>\n",
       "  </thead>\n",
       "  <tbody>\n",
       "    <tr>\n",
       "      <th>0</th>\n",
       "      <td>ham</td>\n",
       "      <td>Go until jurong point, crazy.. Available only ...</td>\n",
       "    </tr>\n",
       "    <tr>\n",
       "      <th>1</th>\n",
       "      <td>ham</td>\n",
       "      <td>Ok lar... Joking wif u oni...</td>\n",
       "    </tr>\n",
       "    <tr>\n",
       "      <th>2</th>\n",
       "      <td>spam</td>\n",
       "      <td>Free entry in 2 a wkly comp to win FA Cup fina...</td>\n",
       "    </tr>\n",
       "    <tr>\n",
       "      <th>3</th>\n",
       "      <td>ham</td>\n",
       "      <td>U dun say so early hor... U c already then say...</td>\n",
       "    </tr>\n",
       "    <tr>\n",
       "      <th>4</th>\n",
       "      <td>ham</td>\n",
       "      <td>Nah I don't think he goes to usf, he lives aro...</td>\n",
       "    </tr>\n",
       "  </tbody>\n",
       "</table>\n",
       "</div>"
      ],
      "text/plain": [
       "  Category                                            Message\n",
       "0      ham  Go until jurong point, crazy.. Available only ...\n",
       "1      ham                      Ok lar... Joking wif u oni...\n",
       "2     spam  Free entry in 2 a wkly comp to win FA Cup fina...\n",
       "3      ham  U dun say so early hor... U c already then say...\n",
       "4      ham  Nah I don't think he goes to usf, he lives aro..."
      ]
     },
     "execution_count": 1,
     "metadata": {},
     "output_type": "execute_result"
    }
   ],
   "source": [
    "# To check whether the mail is spam or ham mail\n",
    "import numpy as np\n",
    "import pandas as pd\n",
    "import matplotlib.pyplot as plt\n",
    "from sklearn.model_selection import train_test_split\n",
    "from sklearn.linear_model import LogisticRegression\n",
    "from sklearn.metrics import accuracy_score\n",
    "\n",
    "raw_mail_data = pd.read_csv(\"mail_data.csv\")\n",
    "raw_mail_data.head()"
   ]
  },
  {
   "cell_type": "code",
   "execution_count": 2,
   "id": "b98a057f",
   "metadata": {},
   "outputs": [
    {
     "data": {
      "text/plain": [
       "Category    0\n",
       "Message     0\n",
       "dtype: int64"
      ]
     },
     "execution_count": 2,
     "metadata": {},
     "output_type": "execute_result"
    }
   ],
   "source": [
    "# To check and Nan filled in column\n",
    "raw_mail_data.isna().sum()"
   ]
  },
  {
   "cell_type": "code",
   "execution_count": 3,
   "id": "de6dccfd",
   "metadata": {},
   "outputs": [
    {
     "data": {
      "text/plain": [
       "0       1\n",
       "1       1\n",
       "2       0\n",
       "3       1\n",
       "4       1\n",
       "       ..\n",
       "5567    0\n",
       "5568    1\n",
       "5569    1\n",
       "5570    1\n",
       "5571    1\n",
       "Name: Category, Length: 5572, dtype: int64"
      ]
     },
     "execution_count": 3,
     "metadata": {},
     "output_type": "execute_result"
    }
   ],
   "source": [
    "# To convert categorical field to numerical field\n",
    "raw_mail_data['Category'].replace({'spam': 0, 'ham': 1},inplace = True)\n",
    "raw_mail_data['Category']"
   ]
  },
  {
   "cell_type": "code",
   "execution_count": 4,
   "id": "1576b72e",
   "metadata": {},
   "outputs": [
    {
     "data": {
      "text/plain": [
       "0       Go until jurong point, crazy.. Available only ...\n",
       "1                           Ok lar... Joking wif u oni...\n",
       "2       Free entry in 2 a wkly comp to win FA Cup fina...\n",
       "3       U dun say so early hor... U c already then say...\n",
       "4       Nah I don't think he goes to usf, he lives aro...\n",
       "                              ...                        \n",
       "5567    This is the 2nd time we have tried 2 contact u...\n",
       "5568                 Will ü b going to esplanade fr home?\n",
       "5569    Pity, * was in mood for that. So...any other s...\n",
       "5570    The guy did some bitching but I acted like i'd...\n",
       "5571                           Rofl. Its true to its name\n",
       "Name: Message, Length: 5572, dtype: object"
      ]
     },
     "execution_count": 4,
     "metadata": {},
     "output_type": "execute_result"
    }
   ],
   "source": [
    "Y = raw_mail_data['Category']\n",
    "X = raw_mail_data['Message']\n",
    "X"
   ]
  },
  {
   "cell_type": "code",
   "execution_count": 5,
   "id": "a17bfa46",
   "metadata": {},
   "outputs": [
    {
     "data": {
      "text/plain": [
       "(1115,)"
      ]
     },
     "execution_count": 5,
     "metadata": {},
     "output_type": "execute_result"
    }
   ],
   "source": [
    "# Convert to train and test split\n",
    "x_train, x_test, y_train, y_test = train_test_split(X, Y, test_size=0.2, random_state=101)\n",
    "x_train.shape\n",
    "x_test.shape\n",
    "y_train.shape\n",
    "y_test.shape"
   ]
  },
  {
   "cell_type": "code",
   "execution_count": 6,
   "id": "7e661783",
   "metadata": {},
   "outputs": [],
   "source": [
    "from sklearn.feature_extraction.text import TfidfVectorizer"
   ]
  },
  {
   "cell_type": "code",
   "execution_count": 7,
   "id": "d17a5471",
   "metadata": {},
   "outputs": [
    {
     "name": "stdout",
     "output_type": "stream",
     "text": [
      "  (0, 4051)\t0.396157711684648\n",
      "  (0, 1218)\t0.41535475634567975\n",
      "  (0, 2818)\t0.3749072721051035\n",
      "  (0, 4767)\t0.3119675917719436\n",
      "  (0, 4837)\t0.25509075047050056\n",
      "  (0, 4241)\t0.3074030730595157\n",
      "  (0, 7387)\t0.3637597414412867\n",
      "  (0, 7454)\t0.25117871060511393\n",
      "  (0, 6863)\t0.27871207078957255\n",
      "  (1, 2242)\t0.2731600013202997\n",
      "  (1, 4546)\t0.1797626942701284\n",
      "  (1, 5101)\t0.21506873016833877\n",
      "  (1, 1593)\t0.12127402897698365\n",
      "  (1, 6859)\t0.17868082050185075\n",
      "  (1, 4461)\t0.17514382420666957\n",
      "  (1, 7520)\t0.2704784073749078\n",
      "  (1, 2172)\t0.19735337010539045\n",
      "  (1, 3353)\t0.24193633044383703\n",
      "  (1, 2188)\t0.4333079074596793\n",
      "  (1, 3903)\t0.1253617819600689\n",
      "  (1, 4873)\t0.12248039075734285\n",
      "  (1, 3771)\t0.1017977122975705\n",
      "  (1, 2195)\t0.2731600013202997\n",
      "  (1, 5193)\t0.1930341585252274\n",
      "  (1, 6336)\t0.16594599980071684\n",
      "  :\t:\n",
      "  (4453, 978)\t0.13038053107248646\n",
      "  (4453, 4981)\t0.14930203217779517\n",
      "  (4453, 7557)\t0.1649992190976192\n",
      "  (4453, 7735)\t0.09860253452103822\n",
      "  (4454, 2488)\t0.3918446404234906\n",
      "  (4454, 1093)\t0.4561498799631511\n",
      "  (4454, 7731)\t0.3512725514873791\n",
      "  (4454, 7534)\t0.2992212406303698\n",
      "  (4454, 5045)\t0.3302004569135163\n",
      "  (4454, 3287)\t0.35325691614792176\n",
      "  (4454, 2181)\t0.2467213138355372\n",
      "  (4454, 6850)\t0.15643754120122397\n",
      "  (4454, 3217)\t0.24479147470432788\n",
      "  (4454, 3903)\t0.21533587919848488\n",
      "  (4455, 3852)\t0.537749125665614\n",
      "  (4455, 6104)\t0.537749125665614\n",
      "  (4455, 2365)\t0.44488109595659847\n",
      "  (4455, 1012)\t0.45215351323911285\n",
      "  (4455, 7735)\t0.13888760426229121\n",
      "  (4456, 2304)\t0.5141795063447279\n",
      "  (4456, 4298)\t0.5117584469570492\n",
      "  (4456, 7542)\t0.4647300982182721\n",
      "  (4456, 7741)\t0.28640686727058395\n",
      "  (4456, 1623)\t0.2917871547948553\n",
      "  (4456, 4981)\t0.3009651569703866\n"
     ]
    }
   ],
   "source": [
    "# Term Frequency Inverse Document Frequency\n",
    "# It is a numerical representation of text document to capture the important words in a collection of document.\n",
    "\n",
    "feature_extraction = TfidfVectorizer()\n",
    "x_train_feature = feature_extraction.fit_transform(x_train)\n",
    "print(x_train_feature)"
   ]
  },
  {
   "cell_type": "code",
   "execution_count": 8,
   "id": "236dd6eb",
   "metadata": {},
   "outputs": [
    {
     "name": "stdout",
     "output_type": "stream",
     "text": [
      "  (0, 7454)\t0.14375663059192606\n",
      "  (0, 7437)\t0.23049175807606267\n",
      "  (0, 7433)\t0.19319739895482224\n",
      "  (0, 7248)\t0.21205092807606885\n",
      "  (0, 7122)\t0.23771919255711657\n",
      "  (0, 6891)\t0.22223387476929624\n",
      "  (0, 6323)\t0.13592012780448376\n",
      "  (0, 6113)\t0.3719741430514692\n",
      "  (0, 4241)\t0.17593541232128582\n",
      "  (0, 3802)\t0.29066384377400534\n",
      "  (0, 3783)\t0.12197849102641574\n",
      "  (0, 3655)\t0.33262148717027007\n",
      "  (0, 3436)\t0.19079462603984626\n",
      "  (0, 3062)\t0.28477659918353654\n",
      "  (0, 1419)\t0.33262148717027007\n",
      "  (0, 1350)\t0.24281895578727183\n",
      "  (0, 1296)\t0.23049175807606267\n",
      "  (1, 7741)\t0.1015077001468157\n",
      "  (1, 7493)\t0.15496224153903065\n",
      "  (1, 6976)\t0.24405761207190935\n",
      "  (1, 6765)\t0.2600553793420984\n",
      "  (1, 6525)\t0.24405761207190935\n",
      "  (1, 6332)\t0.24405761207190935\n",
      "  (1, 6239)\t0.2383477617859644\n",
      "  (1, 5917)\t0.2039420019794958\n",
      "  :\t:\n",
      "  (1112, 1456)\t0.5779409557479678\n",
      "  (1113, 7735)\t0.13336100828685096\n",
      "  (1113, 6336)\t0.2887204539857919\n",
      "  (1113, 3636)\t0.6899776924068045\n",
      "  (1113, 3617)\t0.4923121701324622\n",
      "  (1113, 2671)\t0.3769444756355365\n",
      "  (1113, 1623)\t0.19577465190174592\n",
      "  (1114, 7534)\t0.18081029567036122\n",
      "  (1114, 6863)\t0.1477293702063055\n",
      "  (1114, 5979)\t0.27563749983919444\n",
      "  (1114, 5725)\t0.29370530168290404\n",
      "  (1114, 5029)\t0.23922006355845896\n",
      "  (1114, 4841)\t0.23449708446420803\n",
      "  (1114, 4233)\t0.2835300433614311\n",
      "  (1114, 4105)\t0.22166118852846142\n",
      "  (1114, 3414)\t0.2590135639128196\n",
      "  (1114, 3391)\t0.3213447866830497\n",
      "  (1114, 2494)\t0.19714470907984988\n",
      "  (1114, 2307)\t0.25112102039058287\n",
      "  (1114, 1593)\t0.1258779855332514\n",
      "  (1114, 1379)\t0.20036236298270874\n",
      "  (1114, 1347)\t0.21226331981483268\n",
      "  (1114, 1298)\t0.2637365430070705\n",
      "  (1114, 951)\t0.15049713502005194\n",
      "  (1114, 907)\t0.27563749983919444\n"
     ]
    }
   ],
   "source": [
    "x_test_feature = feature_extraction.transform(x_test)\n",
    "print(x_test_feature)"
   ]
  },
  {
   "cell_type": "code",
   "execution_count": 9,
   "id": "a30fa896",
   "metadata": {},
   "outputs": [
    {
     "data": {
      "text/plain": [
       "dtype('int64')"
      ]
     },
     "execution_count": 9,
     "metadata": {},
     "output_type": "execute_result"
    }
   ],
   "source": [
    "# Check the type of y_train and y_test\n",
    "y_train.dtype"
   ]
  },
  {
   "cell_type": "code",
   "execution_count": 10,
   "id": "f7df7fb8",
   "metadata": {},
   "outputs": [
    {
     "data": {
      "text/plain": [
       "dtype('int32')"
      ]
     },
     "execution_count": 10,
     "metadata": {},
     "output_type": "execute_result"
    }
   ],
   "source": [
    "y_train = y_train.astype('int')\n",
    "y_test = y_test.astype('int')\n",
    "y_train.dtype\n",
    "y_test.dtype"
   ]
  },
  {
   "cell_type": "code",
   "execution_count": 11,
   "id": "d9c6db9c",
   "metadata": {},
   "outputs": [
    {
     "data": {
      "text/html": [
       "<style>#sk-container-id-1 {color: black;}#sk-container-id-1 pre{padding: 0;}#sk-container-id-1 div.sk-toggleable {background-color: white;}#sk-container-id-1 label.sk-toggleable__label {cursor: pointer;display: block;width: 100%;margin-bottom: 0;padding: 0.3em;box-sizing: border-box;text-align: center;}#sk-container-id-1 label.sk-toggleable__label-arrow:before {content: \"▸\";float: left;margin-right: 0.25em;color: #696969;}#sk-container-id-1 label.sk-toggleable__label-arrow:hover:before {color: black;}#sk-container-id-1 div.sk-estimator:hover label.sk-toggleable__label-arrow:before {color: black;}#sk-container-id-1 div.sk-toggleable__content {max-height: 0;max-width: 0;overflow: hidden;text-align: left;background-color: #f0f8ff;}#sk-container-id-1 div.sk-toggleable__content pre {margin: 0.2em;color: black;border-radius: 0.25em;background-color: #f0f8ff;}#sk-container-id-1 input.sk-toggleable__control:checked~div.sk-toggleable__content {max-height: 200px;max-width: 100%;overflow: auto;}#sk-container-id-1 input.sk-toggleable__control:checked~label.sk-toggleable__label-arrow:before {content: \"▾\";}#sk-container-id-1 div.sk-estimator input.sk-toggleable__control:checked~label.sk-toggleable__label {background-color: #d4ebff;}#sk-container-id-1 div.sk-label input.sk-toggleable__control:checked~label.sk-toggleable__label {background-color: #d4ebff;}#sk-container-id-1 input.sk-hidden--visually {border: 0;clip: rect(1px 1px 1px 1px);clip: rect(1px, 1px, 1px, 1px);height: 1px;margin: -1px;overflow: hidden;padding: 0;position: absolute;width: 1px;}#sk-container-id-1 div.sk-estimator {font-family: monospace;background-color: #f0f8ff;border: 1px dotted black;border-radius: 0.25em;box-sizing: border-box;margin-bottom: 0.5em;}#sk-container-id-1 div.sk-estimator:hover {background-color: #d4ebff;}#sk-container-id-1 div.sk-parallel-item::after {content: \"\";width: 100%;border-bottom: 1px solid gray;flex-grow: 1;}#sk-container-id-1 div.sk-label:hover label.sk-toggleable__label {background-color: #d4ebff;}#sk-container-id-1 div.sk-serial::before {content: \"\";position: absolute;border-left: 1px solid gray;box-sizing: border-box;top: 0;bottom: 0;left: 50%;z-index: 0;}#sk-container-id-1 div.sk-serial {display: flex;flex-direction: column;align-items: center;background-color: white;padding-right: 0.2em;padding-left: 0.2em;position: relative;}#sk-container-id-1 div.sk-item {position: relative;z-index: 1;}#sk-container-id-1 div.sk-parallel {display: flex;align-items: stretch;justify-content: center;background-color: white;position: relative;}#sk-container-id-1 div.sk-item::before, #sk-container-id-1 div.sk-parallel-item::before {content: \"\";position: absolute;border-left: 1px solid gray;box-sizing: border-box;top: 0;bottom: 0;left: 50%;z-index: -1;}#sk-container-id-1 div.sk-parallel-item {display: flex;flex-direction: column;z-index: 1;position: relative;background-color: white;}#sk-container-id-1 div.sk-parallel-item:first-child::after {align-self: flex-end;width: 50%;}#sk-container-id-1 div.sk-parallel-item:last-child::after {align-self: flex-start;width: 50%;}#sk-container-id-1 div.sk-parallel-item:only-child::after {width: 0;}#sk-container-id-1 div.sk-dashed-wrapped {border: 1px dashed gray;margin: 0 0.4em 0.5em 0.4em;box-sizing: border-box;padding-bottom: 0.4em;background-color: white;}#sk-container-id-1 div.sk-label label {font-family: monospace;font-weight: bold;display: inline-block;line-height: 1.2em;}#sk-container-id-1 div.sk-label-container {text-align: center;}#sk-container-id-1 div.sk-container {/* jupyter's `normalize.less` sets `[hidden] { display: none; }` but bootstrap.min.css set `[hidden] { display: none !important; }` so we also need the `!important` here to be able to override the default hidden behavior on the sphinx rendered scikit-learn.org. See: https://github.com/scikit-learn/scikit-learn/issues/21755 */display: inline-block !important;position: relative;}#sk-container-id-1 div.sk-text-repr-fallback {display: none;}</style><div id=\"sk-container-id-1\" class=\"sk-top-container\"><div class=\"sk-text-repr-fallback\"><pre>LogisticRegression()</pre><b>In a Jupyter environment, please rerun this cell to show the HTML representation or trust the notebook. <br />On GitHub, the HTML representation is unable to render, please try loading this page with nbviewer.org.</b></div><div class=\"sk-container\" hidden><div class=\"sk-item\"><div class=\"sk-estimator sk-toggleable\"><input class=\"sk-toggleable__control sk-hidden--visually\" id=\"sk-estimator-id-1\" type=\"checkbox\" checked><label for=\"sk-estimator-id-1\" class=\"sk-toggleable__label sk-toggleable__label-arrow\">LogisticRegression</label><div class=\"sk-toggleable__content\"><pre>LogisticRegression()</pre></div></div></div></div></div>"
      ],
      "text/plain": [
       "LogisticRegression()"
      ]
     },
     "execution_count": 11,
     "metadata": {},
     "output_type": "execute_result"
    }
   ],
   "source": [
    "# Create instance for Logistic Regression\n",
    "model = LogisticRegression()\n",
    "model"
   ]
  },
  {
   "cell_type": "code",
   "execution_count": 12,
   "id": "259d2d1e",
   "metadata": {},
   "outputs": [
    {
     "data": {
      "text/html": [
       "<style>#sk-container-id-2 {color: black;}#sk-container-id-2 pre{padding: 0;}#sk-container-id-2 div.sk-toggleable {background-color: white;}#sk-container-id-2 label.sk-toggleable__label {cursor: pointer;display: block;width: 100%;margin-bottom: 0;padding: 0.3em;box-sizing: border-box;text-align: center;}#sk-container-id-2 label.sk-toggleable__label-arrow:before {content: \"▸\";float: left;margin-right: 0.25em;color: #696969;}#sk-container-id-2 label.sk-toggleable__label-arrow:hover:before {color: black;}#sk-container-id-2 div.sk-estimator:hover label.sk-toggleable__label-arrow:before {color: black;}#sk-container-id-2 div.sk-toggleable__content {max-height: 0;max-width: 0;overflow: hidden;text-align: left;background-color: #f0f8ff;}#sk-container-id-2 div.sk-toggleable__content pre {margin: 0.2em;color: black;border-radius: 0.25em;background-color: #f0f8ff;}#sk-container-id-2 input.sk-toggleable__control:checked~div.sk-toggleable__content {max-height: 200px;max-width: 100%;overflow: auto;}#sk-container-id-2 input.sk-toggleable__control:checked~label.sk-toggleable__label-arrow:before {content: \"▾\";}#sk-container-id-2 div.sk-estimator input.sk-toggleable__control:checked~label.sk-toggleable__label {background-color: #d4ebff;}#sk-container-id-2 div.sk-label input.sk-toggleable__control:checked~label.sk-toggleable__label {background-color: #d4ebff;}#sk-container-id-2 input.sk-hidden--visually {border: 0;clip: rect(1px 1px 1px 1px);clip: rect(1px, 1px, 1px, 1px);height: 1px;margin: -1px;overflow: hidden;padding: 0;position: absolute;width: 1px;}#sk-container-id-2 div.sk-estimator {font-family: monospace;background-color: #f0f8ff;border: 1px dotted black;border-radius: 0.25em;box-sizing: border-box;margin-bottom: 0.5em;}#sk-container-id-2 div.sk-estimator:hover {background-color: #d4ebff;}#sk-container-id-2 div.sk-parallel-item::after {content: \"\";width: 100%;border-bottom: 1px solid gray;flex-grow: 1;}#sk-container-id-2 div.sk-label:hover label.sk-toggleable__label {background-color: #d4ebff;}#sk-container-id-2 div.sk-serial::before {content: \"\";position: absolute;border-left: 1px solid gray;box-sizing: border-box;top: 0;bottom: 0;left: 50%;z-index: 0;}#sk-container-id-2 div.sk-serial {display: flex;flex-direction: column;align-items: center;background-color: white;padding-right: 0.2em;padding-left: 0.2em;position: relative;}#sk-container-id-2 div.sk-item {position: relative;z-index: 1;}#sk-container-id-2 div.sk-parallel {display: flex;align-items: stretch;justify-content: center;background-color: white;position: relative;}#sk-container-id-2 div.sk-item::before, #sk-container-id-2 div.sk-parallel-item::before {content: \"\";position: absolute;border-left: 1px solid gray;box-sizing: border-box;top: 0;bottom: 0;left: 50%;z-index: -1;}#sk-container-id-2 div.sk-parallel-item {display: flex;flex-direction: column;z-index: 1;position: relative;background-color: white;}#sk-container-id-2 div.sk-parallel-item:first-child::after {align-self: flex-end;width: 50%;}#sk-container-id-2 div.sk-parallel-item:last-child::after {align-self: flex-start;width: 50%;}#sk-container-id-2 div.sk-parallel-item:only-child::after {width: 0;}#sk-container-id-2 div.sk-dashed-wrapped {border: 1px dashed gray;margin: 0 0.4em 0.5em 0.4em;box-sizing: border-box;padding-bottom: 0.4em;background-color: white;}#sk-container-id-2 div.sk-label label {font-family: monospace;font-weight: bold;display: inline-block;line-height: 1.2em;}#sk-container-id-2 div.sk-label-container {text-align: center;}#sk-container-id-2 div.sk-container {/* jupyter's `normalize.less` sets `[hidden] { display: none; }` but bootstrap.min.css set `[hidden] { display: none !important; }` so we also need the `!important` here to be able to override the default hidden behavior on the sphinx rendered scikit-learn.org. See: https://github.com/scikit-learn/scikit-learn/issues/21755 */display: inline-block !important;position: relative;}#sk-container-id-2 div.sk-text-repr-fallback {display: none;}</style><div id=\"sk-container-id-2\" class=\"sk-top-container\"><div class=\"sk-text-repr-fallback\"><pre>LogisticRegression()</pre><b>In a Jupyter environment, please rerun this cell to show the HTML representation or trust the notebook. <br />On GitHub, the HTML representation is unable to render, please try loading this page with nbviewer.org.</b></div><div class=\"sk-container\" hidden><div class=\"sk-item\"><div class=\"sk-estimator sk-toggleable\"><input class=\"sk-toggleable__control sk-hidden--visually\" id=\"sk-estimator-id-2\" type=\"checkbox\" checked><label for=\"sk-estimator-id-2\" class=\"sk-toggleable__label sk-toggleable__label-arrow\">LogisticRegression</label><div class=\"sk-toggleable__content\"><pre>LogisticRegression()</pre></div></div></div></div></div>"
      ],
      "text/plain": [
       "LogisticRegression()"
      ]
     },
     "execution_count": 12,
     "metadata": {},
     "output_type": "execute_result"
    }
   ],
   "source": [
    "model.fit(x_train_feature, y_train)"
   ]
  },
  {
   "cell_type": "code",
   "execution_count": 13,
   "id": "2628348c",
   "metadata": {},
   "outputs": [
    {
     "data": {
      "text/plain": [
       "array([1, 0, 1, ..., 1, 1, 1])"
      ]
     },
     "execution_count": 13,
     "metadata": {},
     "output_type": "execute_result"
    }
   ],
   "source": [
    "# Process of testing the model\n",
    "prediction = model.predict(x_test_feature)\n",
    "prediction"
   ]
  },
  {
   "cell_type": "code",
   "execution_count": 14,
   "id": "a5ea49e5",
   "metadata": {},
   "outputs": [
    {
     "name": "stdout",
     "output_type": "stream",
     "text": [
      "Accuracy of the above model is = 0.9659192825112107\n"
     ]
    }
   ],
   "source": [
    "acc = accuracy_score(prediction, y_test)\n",
    "print(\"Accuracy of the above model is =\", acc)"
   ]
  },
  {
   "cell_type": "code",
   "execution_count": 15,
   "id": "1ef1f3ff",
   "metadata": {},
   "outputs": [
    {
     "data": {
      "text/plain": [
       "\"They don't put that stuff on the roads to keep it from getting slippery over there?\""
      ]
     },
     "execution_count": 15,
     "metadata": {},
     "output_type": "execute_result"
    }
   ],
   "source": [
    "# Real time verification\n",
    "raw_mail_data['Message'][467]"
   ]
  },
  {
   "cell_type": "code",
   "execution_count": 16,
   "id": "a7bc8854",
   "metadata": {},
   "outputs": [
    {
     "data": {
      "text/plain": [
       "1"
      ]
     },
     "execution_count": 16,
     "metadata": {},
     "output_type": "execute_result"
    }
   ],
   "source": [
    "raw_mail_data['Category'][467]"
   ]
  },
  {
   "cell_type": "code",
   "execution_count": 17,
   "id": "171b0e2b",
   "metadata": {},
   "outputs": [],
   "source": [
    "input_mail = [\"They don't put that stuff on the roads to keep it from getting slippery over there?\"]"
   ]
  },
  {
   "cell_type": "code",
   "execution_count": 18,
   "id": "24501665",
   "metadata": {},
   "outputs": [
    {
     "name": "stdout",
     "output_type": "stream",
     "text": [
      "  (0, 6970)\t0.1155113743711798\n",
      "  (0, 6874)\t0.25874476624317705\n",
      "  (0, 6867)\t0.22904289265064137\n",
      "  (0, 6850)\t0.14105228485794397\n",
      "  (0, 6847)\t0.17897524361135556\n",
      "  (0, 6580)\t0.31331961904563294\n",
      "  (0, 5850)\t0.43824825263330897\n",
      "  (0, 5553)\t0.3263480439403955\n",
      "  (0, 5072)\t0.28872100799671646\n",
      "  (0, 4981)\t0.17975713282600092\n",
      "  (0, 3937)\t0.2801438185026489\n",
      "  (0, 3783)\t0.16856122294492457\n",
      "  (0, 3141)\t0.30424995422062356\n",
      "  (0, 3035)\t0.21157213644849557\n",
      "  (0, 2411)\t0.24225870597293092\n"
     ]
    }
   ],
   "source": [
    "input_data_feature = feature_extraction.transform(input_mail)\n",
    "print(input_data_feature)"
   ]
  },
  {
   "cell_type": "code",
   "execution_count": 19,
   "id": "19786f09",
   "metadata": {},
   "outputs": [
    {
     "name": "stdout",
     "output_type": "stream",
     "text": [
      "It's Ham Mail\n"
     ]
    }
   ],
   "source": [
    "prediction = model.predict(input_data_feature)\n",
    "if prediction[0]==1:\n",
    "    print(\"It's Ham Mail\")\n",
    "else:\n",
    "    print(\"It's Spam Mail\")"
   ]
  },
  {
   "cell_type": "code",
   "execution_count": 20,
   "id": "1b105b31",
   "metadata": {},
   "outputs": [
    {
     "name": "stdout",
     "output_type": "stream",
     "text": [
      "Defaulting to user installation because normal site-packages is not writeable\n",
      "Requirement already satisfied: selenium in c:\\users\\tanut\\appdata\\roaming\\python\\python311\\site-packages (4.18.1)\n",
      "Requirement already satisfied: urllib3[socks]<3,>=1.26 in c:\\programdata\\anaconda3\\lib\\site-packages (from selenium) (1.26.16)\n",
      "Requirement already satisfied: trio~=0.17 in c:\\users\\tanut\\appdata\\roaming\\python\\python311\\site-packages (from selenium) (0.24.0)\n",
      "Requirement already satisfied: trio-websocket~=0.9 in c:\\users\\tanut\\appdata\\roaming\\python\\python311\\site-packages (from selenium) (0.11.1)\n",
      "Requirement already satisfied: certifi>=2021.10.8 in c:\\programdata\\anaconda3\\lib\\site-packages (from selenium) (2023.7.22)\n",
      "Requirement already satisfied: typing_extensions>=4.9.0 in c:\\users\\tanut\\appdata\\roaming\\python\\python311\\site-packages (from selenium) (4.9.0)\n",
      "Requirement already satisfied: attrs>=20.1.0 in c:\\programdata\\anaconda3\\lib\\site-packages (from trio~=0.17->selenium) (22.1.0)\n",
      "Requirement already satisfied: sortedcontainers in c:\\programdata\\anaconda3\\lib\\site-packages (from trio~=0.17->selenium) (2.4.0)\n",
      "Requirement already satisfied: idna in c:\\programdata\\anaconda3\\lib\\site-packages (from trio~=0.17->selenium) (3.4)\n",
      "Requirement already satisfied: outcome in c:\\users\\tanut\\appdata\\roaming\\python\\python311\\site-packages (from trio~=0.17->selenium) (1.3.0.post0)\n",
      "Requirement already satisfied: sniffio>=1.3.0 in c:\\users\\tanut\\appdata\\roaming\\python\\python311\\site-packages (from trio~=0.17->selenium) (1.3.0)\n",
      "Requirement already satisfied: cffi>=1.14 in c:\\programdata\\anaconda3\\lib\\site-packages (from trio~=0.17->selenium) (1.15.1)\n",
      "Requirement already satisfied: wsproto>=0.14 in c:\\users\\tanut\\appdata\\roaming\\python\\python311\\site-packages (from trio-websocket~=0.9->selenium) (1.2.0)\n",
      "Requirement already satisfied: PySocks!=1.5.7,<2.0,>=1.5.6 in c:\\programdata\\anaconda3\\lib\\site-packages (from urllib3[socks]<3,>=1.26->selenium) (1.7.1)\n",
      "Requirement already satisfied: pycparser in c:\\programdata\\anaconda3\\lib\\site-packages (from cffi>=1.14->trio~=0.17->selenium) (2.21)\n",
      "Requirement already satisfied: h11<1,>=0.9.0 in c:\\users\\tanut\\appdata\\roaming\\python\\python311\\site-packages (from wsproto>=0.14->trio-websocket~=0.9->selenium) (0.14.0)\n",
      "Note: you may need to restart the kernel to use updated packages.\n"
     ]
    }
   ],
   "source": [
    "pip install selenium"
   ]
  },
  {
   "cell_type": "code",
   "execution_count": 21,
   "id": "9e39d52e",
   "metadata": {},
   "outputs": [
    {
     "name": "stdout",
     "output_type": "stream",
     "text": [
      "Defaulting to user installation because normal site-packages is not writeable\n",
      "Requirement already satisfied: urllib3==1.26.16 in c:\\programdata\\anaconda3\\lib\\site-packages (1.26.16)\n",
      "Note: you may need to restart the kernel to use updated packages.\n"
     ]
    }
   ],
   "source": [
    "pip install --upgrade urllib3==1.26.16"
   ]
  },
  {
   "cell_type": "code",
   "execution_count": 24,
   "id": "e07fadbb",
   "metadata": {},
   "outputs": [],
   "source": [
    "from selenium import webdriver\n",
    "from selenium.webdriver.chrome.service import Service\n",
    "from selenium.webdriver.common.by import By\n",
    "s = Service(r\"C:\\Users\\tanut\\OneDrive\\Desktop\\chromedriver.exe\")\n",
    "webD = webdriver.Chrome(service=s)\n",
    "# webD.get(\"https://books.toscrape.com/catalogue/category/books_1/page-10.html\")\n",
    "webD.get(\"https://books.toscrape.com/\")"
   ]
  },
  {
   "cell_type": "code",
   "execution_count": null,
   "id": "e0b7b0de",
   "metadata": {},
   "outputs": [],
   "source": [
    "# #to retrive the elements from webpage\n",
    "# #-->find element by name attribute\n",
    "# ele=webD.find_element_by_name('element name')\n",
    "\n",
    "# #-->find element by link\n",
    "# ele=webD.find_element_by_link('link')\n",
    "\n",
    "# #-->find element by tagname\n",
    "# ele=webD.find_element_by_tag_name('link')\n",
    "\n",
    "# #-->find element by xpath\n",
    "# ele=webD.find_element_by_tag_xpath('xpath')\n",
    "\n",
    "# #-->find element by classname\n",
    "# ele=webD.find_element_by_class_name('classname')\n",
    "\n",
    "# #-->find element by id\n",
    "# ele=webD.find_element_by_id('id')"
   ]
  },
  {
   "cell_type": "code",
   "execution_count": null,
   "id": "7df9215f",
   "metadata": {},
   "outputs": [],
   "source": [
    "# to scrap the title\n",
    "ele = webD.find_element(By.CLASS_NAME, \"col-sm-8.h1\")\n",
    "print(ele)"
   ]
  },
  {
   "cell_type": "code",
   "execution_count": null,
   "id": "d82bff3a",
   "metadata": {},
   "outputs": [],
   "source": [
    "#!To scrap the title\n",
    "#col-sm-8-h1\n",
    "#titl=webD.find_element_by_class_name(\"col-sm-8-h1\")\n",
    "# a=webD.find_element_by_tag_name('a')\n",
    "a=webD.find_element(By.TAG_NAME,'a')\n",
    "print(a.text)"
   ]
  },
  {
   "cell_type": "code",
   "execution_count": null,
   "id": "9f90024c",
   "metadata": {},
   "outputs": [],
   "source": []
  }
 ],
 "metadata": {
  "kernelspec": {
   "display_name": "Python 3 (ipykernel)",
   "language": "python",
   "name": "python3"
  },
  "language_info": {
   "codemirror_mode": {
    "name": "ipython",
    "version": 3
   },
   "file_extension": ".py",
   "mimetype": "text/x-python",
   "name": "python",
   "nbconvert_exporter": "python",
   "pygments_lexer": "ipython3",
   "version": "3.11.5"
  }
 },
 "nbformat": 4,
 "nbformat_minor": 5
}
